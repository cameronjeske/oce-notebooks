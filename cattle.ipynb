{
 "cells": [
  {
   "cell_type": "code",
   "execution_count": 1,
   "metadata": {},
   "outputs": [
    {
     "name": "stdout",
     "output_type": "stream",
     "text": [
      "                            OLS Regression Results                            \n",
      "==============================================================================\n",
      "Dep. Variable:       ln(cattle price)   R-squared:                       0.798\n",
      "Model:                            OLS   Adj. R-squared:                  0.791\n",
      "Method:                 Least Squares   F-statistic:                     103.6\n",
      "Date:                Thu, 23 Jun 2022   Prob (F-statistic):          5.53e-192\n",
      "Time:                        09:49:09   Log-Likelihood:                 851.77\n",
      "No. Observations:                 626   AIC:                            -1656.\n",
      "Df Residuals:                     602   BIC:                            -1549.\n",
      "Df Model:                          23                                         \n",
      "Covariance Type:            nonrobust                                         \n",
      "===================================================================================\n",
      "                      coef    std err          t      P>|t|      [0.025      0.975]\n",
      "-----------------------------------------------------------------------------------\n",
      "const               4.7895      0.014    334.663      0.000       4.761       4.818\n",
      "ln(utilization)    -0.1377      0.038     -3.626      0.000      -0.212      -0.063\n",
      "yr10               -0.2399      0.012    -19.336      0.000      -0.264      -0.216\n",
      "yr11               -0.0589      0.012     -4.758      0.000      -0.083      -0.035\n",
      "yr12                0.0069      0.012      0.559      0.577      -0.017       0.031\n",
      "yr13                0.0276      0.012      2.224      0.027       0.003       0.052\n",
      "yr14                0.2237      0.013     17.463      0.000       0.199       0.249\n",
      "yr15                0.1755      0.013     13.139      0.000       0.149       0.202\n",
      "yr16               -0.0173      0.013     -1.371      0.171      -0.042       0.007\n",
      "yr17               -0.0082      0.012     -0.661      0.509      -0.032       0.016\n",
      "yr18               -0.0415      0.012     -3.360      0.001      -0.066      -0.017\n",
      "yr19               -0.0496      0.012     -4.008      0.000      -0.074      -0.025\n",
      "yr20               -0.1194      0.012     -9.606      0.000      -0.144      -0.095\n",
      "jan                -0.0047      0.012     -0.386      0.700      -0.029       0.019\n",
      "feb                 0.0025      0.013      0.200      0.842      -0.022       0.027\n",
      "mar                 0.0238      0.012      1.928      0.054      -0.000       0.048\n",
      "apr                 0.0147      0.012      1.186      0.236      -0.010       0.039\n",
      "may                 0.0091      0.013      0.722      0.470      -0.016       0.034\n",
      "jun                -0.0227      0.013     -1.745      0.082      -0.048       0.003\n",
      "jul                -0.0433      0.013     -3.456      0.001      -0.068      -0.019\n",
      "aug                -0.0303      0.013     -2.360      0.019      -0.055      -0.005\n",
      "sep                -0.0496      0.013     -3.928      0.000      -0.074      -0.025\n",
      "oct                -0.0273      0.013     -2.166      0.031      -0.052      -0.003\n",
      "nov                -0.0018      0.012     -0.147      0.884      -0.026       0.023\n",
      "==============================================================================\n",
      "Omnibus:                       28.688   Durbin-Watson:                   0.227\n",
      "Prob(Omnibus):                  0.000   Jarque-Bera (JB):               32.671\n",
      "Skew:                          -0.486   Prob(JB):                     8.05e-08\n",
      "Kurtosis:                       3.555   Cond. No.                         17.9\n",
      "==============================================================================\n",
      "\n",
      "Notes:\n",
      "[1] Standard Errors assume that the covariance matrix of the errors is correctly specified.\n"
     ]
    }
   ],
   "source": [
    "import pandas as pd\n",
    "from sklearn.linear_model import LinearRegression\n",
    "import statsmodels.api as sm\n",
    "import numpy as np\n",
    "\n",
    "sheet = pd.read_csv(r'C:\\Users\\csjes\\Desktop\\all cattle prices.csv')\n",
    "df = pd.DataFrame(sheet, columns = ['yr10', 'yr11', 'yr12', 'yr13', 'yr14', 'yr15', 'yr16', 'yr17', 'yr18', 'yr19', 'yr20', 'jan', 'feb', 'mar', 'apr', 'may', 'jun', 'jul', 'aug', 'sep', 'oct', 'nov', 'ln(utilization)', 'ln(cattle price)'])\n",
    "\n",
    "X = df[['ln(utilization)', 'yr10', 'yr11', 'yr12', 'yr13', 'yr14', 'yr15', 'yr16', 'yr17', 'yr18', 'yr19', 'yr20', 'jan', 'feb', 'mar', 'apr', 'may', 'jun', 'jul', 'aug', 'sep', 'oct', 'nov']]\n",
    "y = df['ln(cattle price)']\n",
    "\n",
    "X = sm.add_constant(X)\n",
    "result = sm.OLS(y, X).fit()\n",
    "print(result.summary())"
   ]
  }
 ],
 "metadata": {
  "kernelspec": {
   "display_name": "Python 3.9.12 ('base')",
   "language": "python",
   "name": "python3"
  },
  "language_info": {
   "codemirror_mode": {
    "name": "ipython",
    "version": 3
   },
   "file_extension": ".py",
   "mimetype": "text/x-python",
   "name": "python",
   "nbconvert_exporter": "python",
   "pygments_lexer": "ipython3",
   "version": "3.9.12"
  },
  "orig_nbformat": 4,
  "vscode": {
   "interpreter": {
    "hash": "6582d9aacd0dc7401298f5a8a5bb6397bff1cf9d99f4570a5bbb2483f843f71c"
   }
  }
 },
 "nbformat": 4,
 "nbformat_minor": 2
}
