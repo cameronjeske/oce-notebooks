{
 "cells": [
  {
   "cell_type": "code",
   "execution_count": 3,
   "metadata": {},
   "outputs": [
    {
     "name": "stdout",
     "output_type": "stream",
     "text": [
      "                            OLS Regression Results                            \n",
      "==============================================================================\n",
      "Dep. Variable:       ln(cattle price)   R-squared:                       0.800\n",
      "Model:                            OLS   Adj. R-squared:                  0.793\n",
      "Method:                 Least Squares   F-statistic:                     104.6\n",
      "Date:                Wed, 22 Jun 2022   Prob (F-statistic):          7.09e-193\n",
      "Time:                        14:02:03   Log-Likelihood:                 850.27\n",
      "No. Observations:                 625   AIC:                            -1653.\n",
      "Df Residuals:                     601   BIC:                            -1546.\n",
      "Df Model:                          23                                         \n",
      "Covariance Type:            nonrobust                                         \n",
      "===================================================================================\n",
      "                      coef    std err          t      P>|t|      [0.025      0.975]\n",
      "-----------------------------------------------------------------------------------\n",
      "const               4.8017      0.013    383.332      0.000       4.777       4.826\n",
      "ln(utilization)    -0.0094      0.003     -3.633      0.000      -0.015      -0.004\n",
      "yr10               -0.2542      0.013    -20.176      0.000      -0.279      -0.229\n",
      "yr11               -0.0737      0.013     -5.749      0.000      -0.099      -0.049\n",
      "yr12               -0.0041      0.013     -0.314      0.754      -0.030       0.022\n",
      "yr13                0.0260      0.013      2.058      0.040       0.001       0.051\n",
      "yr14                0.2200      0.013     16.624      0.000       0.194       0.246\n",
      "yr15                0.1731      0.014     12.468      0.000       0.146       0.200\n",
      "yr16               -0.0118      0.012     -0.945      0.345      -0.036       0.013\n",
      "yr17               -0.0062      0.012     -0.498      0.619      -0.031       0.018\n",
      "yr18               -0.0405      0.012     -3.255      0.001      -0.065      -0.016\n",
      "yr19               -0.0478      0.012     -3.849      0.000      -0.072      -0.023\n",
      "yr20               -0.1151      0.013     -9.210      0.000      -0.140      -0.091\n",
      "jan                -0.0096      0.012     -0.781      0.435      -0.034       0.015\n",
      "feb                 0.0008      0.013      0.061      0.951      -0.024       0.026\n",
      "mar                 0.0186      0.012      1.505      0.133      -0.006       0.043\n",
      "apr                 0.0139      0.012      1.121      0.263      -0.010       0.038\n",
      "may                 0.0080      0.012      0.649      0.517      -0.016       0.032\n",
      "jun                -0.0247      0.013     -1.964      0.050      -0.049    4.54e-06\n",
      "jul                -0.0454      0.012     -3.685      0.000      -0.070      -0.021\n",
      "aug                -0.0369      0.012     -2.987      0.003      -0.061      -0.013\n",
      "sep                -0.0474      0.013     -3.782      0.000      -0.072      -0.023\n",
      "oct                -0.0319      0.012     -2.591      0.010      -0.056      -0.008\n",
      "nov                 0.0038      0.013      0.303      0.762      -0.021       0.029\n",
      "==============================================================================\n",
      "Omnibus:                       18.025   Durbin-Watson:                   0.259\n",
      "Prob(Omnibus):                  0.000   Jarque-Bera (JB):               18.857\n",
      "Skew:                          -0.399   Prob(JB):                     8.04e-05\n",
      "Kurtosis:                       3.293   Cond. No.                         31.4\n",
      "==============================================================================\n",
      "\n",
      "Notes:\n",
      "[1] Standard Errors assume that the covariance matrix of the errors is correctly specified.\n"
     ]
    }
   ],
   "source": [
    "import pandas as pd\n",
    "from sklearn.linear_model import LinearRegression\n",
    "import statsmodels.api as sm\n",
    "import numpy as np\n",
    "\n",
    "sheet = pd.read_csv(r'C:\\Users\\csjes\\Desktop\\all cattle prices.csv')\n",
    "df = pd.DataFrame(sheet, columns = ['yr10', 'yr11', 'yr12', 'yr13', 'yr14', 'yr15', 'yr16', 'yr17', 'yr18', 'yr19', 'yr20', 'jan', 'feb', 'mar', 'apr', 'may', 'jun', 'jul', 'aug', 'sep', 'oct', 'nov', 'ln(utilization)', 'ln(cattle price)'])\n",
    "\n",
    "X = df[['ln(utilization)', 'yr10', 'yr11', 'yr12', 'yr13', 'yr14', 'yr15', 'yr16', 'yr17', 'yr18', 'yr19', 'yr20', 'jan', 'feb', 'mar', 'apr', 'may', 'jun', 'jul', 'aug', 'sep', 'oct', 'nov']]\n",
    "y = df['ln(cattle price)']\n",
    "\n",
    "X = sm.add_constant(X)\n",
    "result = sm.OLS(y, X).fit()\n",
    "print(result.summary())"
   ]
  }
 ],
 "metadata": {
  "kernelspec": {
   "display_name": "Python 3.9.12 ('base')",
   "language": "python",
   "name": "python3"
  },
  "language_info": {
   "codemirror_mode": {
    "name": "ipython",
    "version": 3
   },
   "file_extension": ".py",
   "mimetype": "text/x-python",
   "name": "python",
   "nbconvert_exporter": "python",
   "pygments_lexer": "ipython3",
   "version": "3.9.12"
  },
  "orig_nbformat": 4,
  "vscode": {
   "interpreter": {
    "hash": "6582d9aacd0dc7401298f5a8a5bb6397bff1cf9d99f4570a5bbb2483f843f71c"
   }
  }
 },
 "nbformat": 4,
 "nbformat_minor": 2
}
