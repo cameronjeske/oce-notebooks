{
 "cells": [
  {
   "cell_type": "code",
   "execution_count": 1,
   "metadata": {},
   "outputs": [],
   "source": [
    "import pandas as pd\n",
    "from sklearn.linear_model import LinearRegression\n",
    "import statsmodels.api as sm\n",
    "import numpy as np"
   ]
  },
  {
   "cell_type": "code",
   "execution_count": 2,
   "metadata": {},
   "outputs": [],
   "source": [
    "sheet = pd.read_csv(r'C:\\Users\\csjes\\Desktop\\all hog prices.csv')\n",
    "df = pd.DataFrame(sheet, columns = ['yr10', 'yr11', 'yr12', 'yr13', 'yr14', 'yr15', 'yr16', 'yr17', 'yr18', 'yr19', 'yr20', 'jan', 'feb', 'mar', 'apr', 'may', 'jun', 'jul', 'aug', 'sep', 'oct', 'nov', 'ln(utilization)', 'ln(retail pork)'])"
   ]
  },
  {
   "cell_type": "code",
   "execution_count": 3,
   "metadata": {},
   "outputs": [],
   "source": [
    "X = df[['ln(utilization)', 'yr10', 'yr11', 'yr12', 'yr13', 'yr14', 'yr15', 'yr16', 'yr17', 'yr18', 'yr19', 'yr20', 'jan', 'feb', 'mar', 'apr', 'may', 'jun', 'jul', 'aug', 'sep', 'oct', 'nov']]\n",
    "y = df['ln(retail pork)']"
   ]
  },
  {
   "cell_type": "code",
   "execution_count": 4,
   "metadata": {},
   "outputs": [
    {
     "name": "stdout",
     "output_type": "stream",
     "text": [
      "                            OLS Regression Results                            \n",
      "==============================================================================\n",
      "Dep. Variable:        ln(retail pork)   R-squared:                       0.931\n",
      "Model:                            OLS   Adj. R-squared:                  0.928\n",
      "Method:                 Least Squares   F-statistic:                     367.1\n",
      "Date:                Wed, 22 Jun 2022   Prob (F-statistic):               0.00\n",
      "Time:                        12:10:20   Log-Likelihood:                 1419.7\n",
      "No. Observations:                 623   AIC:                            -2793.\n",
      "Df Residuals:                     600   BIC:                            -2691.\n",
      "Df Model:                          22                                         \n",
      "Covariance Type:            nonrobust                                         \n",
      "===================================================================================\n",
      "                      coef    std err          t      P>|t|      [0.025      0.975]\n",
      "-----------------------------------------------------------------------------------\n",
      "const               6.1163      0.004   1402.946      0.000       6.108       6.125\n",
      "ln(utilization)    -0.0269      0.016     -1.655      0.099      -0.059       0.005\n",
      "yr10               -0.3729      0.006    -64.993      0.000      -0.384      -0.362\n",
      "yr11               -0.2732      0.006    -48.763      0.000      -0.284      -0.262\n",
      "yr12               -0.2630      0.005    -47.973      0.000      -0.274      -0.252\n",
      "yr13               -0.2150      0.006    -38.550      0.000      -0.226      -0.204\n",
      "yr14               -0.1172      0.006    -19.840      0.000      -0.129      -0.106\n",
      "yr15               -0.1567      0.005    -29.477      0.000      -0.167      -0.146\n",
      "yr16               -0.1836      0.005    -35.596      0.000      -0.194      -0.173\n",
      "yr17               -0.1733      0.005    -34.315      0.000      -0.183      -0.163\n",
      "yr18               -0.1830      0.005    -36.717      0.000      -0.193      -0.173\n",
      "yr19               -0.1558      0.005    -31.419      0.000      -0.166      -0.146\n",
      "yr20               -0.1100      0.005    -22.191      0.000      -0.120      -0.100\n",
      "jan                -0.0462      0.004    -10.761      0.000      -0.055      -0.038\n",
      "feb                -0.0439      0.004     -9.894      0.000      -0.053      -0.035\n",
      "mar                -0.0342      0.004     -7.978      0.000      -0.043      -0.026\n",
      "apr                -0.0332      0.004     -7.499      0.000      -0.042      -0.024\n",
      "may                -0.0209      0.005     -4.530      0.000      -0.030      -0.012\n",
      "jun                -0.0112      0.005     -2.413      0.016      -0.020      -0.002\n",
      "jul                -0.0029      0.005     -0.616      0.538      -0.012       0.006\n",
      "aug                 0.0113      0.004      2.618      0.009       0.003       0.020\n",
      "sep                 0.0176      0.004      4.065      0.000       0.009       0.026\n",
      "oct                 0.0174      0.004      3.999      0.000       0.009       0.026\n",
      "nov                      0          0        nan        nan           0           0\n",
      "==============================================================================\n",
      "Omnibus:                        7.222   Durbin-Watson:                   0.169\n",
      "Prob(Omnibus):                  0.027   Jarque-Bera (JB):                7.353\n",
      "Skew:                           0.264   Prob(JB):                       0.0253\n",
      "Kurtosis:                       2.938   Cond. No.                          inf\n",
      "==============================================================================\n",
      "\n",
      "Notes:\n",
      "[1] Standard Errors assume that the covariance matrix of the errors is correctly specified.\n",
      "[2] The smallest eigenvalue is      0. This might indicate that there are\n",
      "strong multicollinearity problems or that the design matrix is singular.\n"
     ]
    },
    {
     "name": "stderr",
     "output_type": "stream",
     "text": [
      "c:\\Users\\csjes\\anaconda3\\lib\\site-packages\\statsmodels\\regression\\linear_model.py:1918: RuntimeWarning: divide by zero encountered in double_scalars\n",
      "  return np.sqrt(eigvals[0]/eigvals[-1])\n"
     ]
    }
   ],
   "source": [
    "X = sm.add_constant(X)\n",
    "result = sm.OLS(y, X).fit()\n",
    "print(result.summary())"
   ]
  }
 ],
 "metadata": {
  "kernelspec": {
   "display_name": "Python 3.9.12 ('base')",
   "language": "python",
   "name": "python3"
  },
  "language_info": {
   "codemirror_mode": {
    "name": "ipython",
    "version": 3
   },
   "file_extension": ".py",
   "mimetype": "text/x-python",
   "name": "python",
   "nbconvert_exporter": "python",
   "pygments_lexer": "ipython3",
   "version": "3.9.12"
  },
  "orig_nbformat": 4,
  "vscode": {
   "interpreter": {
    "hash": "6582d9aacd0dc7401298f5a8a5bb6397bff1cf9d99f4570a5bbb2483f843f71c"
   }
  }
 },
 "nbformat": 4,
 "nbformat_minor": 2
}
