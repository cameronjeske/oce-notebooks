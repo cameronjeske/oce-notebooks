{
 "cells": [
  {
   "cell_type": "code",
   "execution_count": 1,
   "metadata": {},
   "outputs": [],
   "source": [
    "import pandas as pd\n",
    "from sklearn.linear_model import LinearRegression\n",
    "import statsmodels.api as sm\n",
    "import numpy as np"
   ]
  },
  {
   "cell_type": "code",
   "execution_count": 2,
   "metadata": {},
   "outputs": [],
   "source": [
    "sheet = pd.read_csv(r'C:\\Users\\csjes\\Desktop\\all hog prices.csv')\n",
    "df = pd.DataFrame(sheet, columns = ['yr10', 'yr11', 'yr12', 'yr13', 'yr14', 'yr15', 'yr16', 'yr17', 'yr18', 'yr19', 'yr20', 'jan', 'feb', 'mar', 'apr', 'may', 'jun', 'jul', 'aug', 'sep', 'oct', 'nov', 'ln(utilization)', 'ln(retail pork)'])"
   ]
  },
  {
   "cell_type": "code",
   "execution_count": 3,
   "metadata": {},
   "outputs": [],
   "source": [
    "X = df[['ln(utilization)', 'yr10', 'yr11', 'yr12', 'yr13', 'yr14', 'yr15', 'yr16', 'yr17', 'yr18', 'yr19', 'yr20', 'jan', 'feb', 'mar', 'apr', 'may', 'jun', 'jul', 'aug', 'sep', 'oct', 'nov']]\n",
    "y = df['ln(retail pork)']"
   ]
  },
  {
   "cell_type": "code",
   "execution_count": 4,
   "metadata": {},
   "outputs": [
    {
     "name": "stdout",
     "output_type": "stream",
     "text": [
      "                            OLS Regression Results                            \n",
      "==============================================================================\n",
      "Dep. Variable:        ln(retail pork)   R-squared:                       0.932\n",
      "Model:                            OLS   Adj. R-squared:                  0.929\n",
      "Method:                 Least Squares   F-statistic:                     354.9\n",
      "Date:                Wed, 22 Jun 2022   Prob (F-statistic):               0.00\n",
      "Time:                        12:18:00   Log-Likelihood:                 1423.3\n",
      "No. Observations:                 623   AIC:                            -2799.\n",
      "Df Residuals:                     599   BIC:                            -2692.\n",
      "Df Model:                          23                                         \n",
      "Covariance Type:            nonrobust                                         \n",
      "===================================================================================\n",
      "                      coef    std err          t      P>|t|      [0.025      0.975]\n",
      "-----------------------------------------------------------------------------------\n",
      "const               6.1094      0.005   1208.457      0.000       6.099       6.119\n",
      "ln(utilization)    -0.0311      0.016     -1.915      0.056      -0.063       0.001\n",
      "yr10               -0.3735      0.006    -65.370      0.000      -0.385      -0.362\n",
      "yr11               -0.2737      0.006    -49.071      0.000      -0.285      -0.263\n",
      "yr12               -0.2637      0.005    -48.285      0.000      -0.274      -0.253\n",
      "yr13               -0.2157      0.006    -38.828      0.000      -0.227      -0.205\n",
      "yr14               -0.1181      0.006    -20.052      0.000      -0.130      -0.107\n",
      "yr15               -0.1572      0.005    -29.700      0.000      -0.168      -0.147\n",
      "yr16               -0.1839      0.005    -35.819      0.000      -0.194      -0.174\n",
      "yr17               -0.1735      0.005    -34.510      0.000      -0.183      -0.164\n",
      "yr18               -0.1833      0.005    -36.947      0.000      -0.193      -0.174\n",
      "yr19               -0.1559      0.005    -31.591      0.000      -0.166      -0.146\n",
      "yr20               -0.1099      0.005    -22.293      0.000      -0.120      -0.100\n",
      "jan                -0.0398      0.005     -8.103      0.000      -0.049      -0.030\n",
      "feb                -0.0374      0.005     -7.435      0.000      -0.047      -0.028\n",
      "mar                -0.0278      0.005     -5.653      0.000      -0.037      -0.018\n",
      "apr                -0.0269      0.005     -5.382      0.000      -0.037      -0.017\n",
      "may                -0.0148      0.005     -2.882      0.004      -0.025      -0.005\n",
      "jun                -0.0051      0.005     -0.993      0.321      -0.015       0.005\n",
      "jul                 0.0031      0.005      0.593      0.553      -0.007       0.013\n",
      "aug                 0.0177      0.005      3.586      0.000       0.008       0.027\n",
      "sep                 0.0241      0.005      4.857      0.000       0.014       0.034\n",
      "oct                 0.0240      0.005      4.804      0.000       0.014       0.034\n",
      "nov                 0.0131      0.005      2.644      0.008       0.003       0.023\n",
      "==============================================================================\n",
      "Omnibus:                        6.723   Durbin-Watson:                   0.167\n",
      "Prob(Omnibus):                  0.035   Jarque-Bera (JB):                6.868\n",
      "Skew:                           0.249   Prob(JB):                       0.0323\n",
      "Kurtosis:                       2.873   Cond. No.                         20.2\n",
      "==============================================================================\n",
      "\n",
      "Notes:\n",
      "[1] Standard Errors assume that the covariance matrix of the errors is correctly specified.\n"
     ]
    }
   ],
   "source": [
    "X = sm.add_constant(X)\n",
    "result = sm.OLS(y, X).fit()\n",
    "print(result.summary())"
   ]
  }
 ],
 "metadata": {
  "kernelspec": {
   "display_name": "Python 3.9.12 ('base')",
   "language": "python",
   "name": "python3"
  },
  "language_info": {
   "codemirror_mode": {
    "name": "ipython",
    "version": 3
   },
   "file_extension": ".py",
   "mimetype": "text/x-python",
   "name": "python",
   "nbconvert_exporter": "python",
   "pygments_lexer": "ipython3",
   "version": "3.9.12"
  },
  "orig_nbformat": 4,
  "vscode": {
   "interpreter": {
    "hash": "6582d9aacd0dc7401298f5a8a5bb6397bff1cf9d99f4570a5bbb2483f843f71c"
   }
  }
 },
 "nbformat": 4,
 "nbformat_minor": 2
}
