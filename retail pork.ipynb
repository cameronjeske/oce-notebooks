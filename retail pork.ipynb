{
 "cells": [
  {
   "cell_type": "code",
   "execution_count": 5,
   "metadata": {},
   "outputs": [],
   "source": [
    "import pandas as pd\n",
    "from sklearn.linear_model import LinearRegression\n",
    "import statsmodels.api as sm\n",
    "import numpy as np"
   ]
  },
  {
   "cell_type": "code",
   "execution_count": 6,
   "metadata": {},
   "outputs": [],
   "source": [
    "sheet = pd.read_csv(r'C:\\Users\\csjes\\Desktop\\all hog prices.csv')\n",
    "df = pd.DataFrame(sheet, columns = ['yr10', 'yr11', 'yr12', 'yr13', 'yr14', 'yr15', 'yr16', 'yr17', 'yr18', 'yr19', 'yr20', 'jan', 'feb', 'mar', 'apr', 'may', 'jun', 'jul', 'aug', 'sep', 'oct', 'nov', 'ln(utilization)', 'ln(retail pork)'])"
   ]
  },
  {
   "cell_type": "code",
   "execution_count": 7,
   "metadata": {},
   "outputs": [],
   "source": [
    "X = df[['ln(utilization)', 'yr10', 'yr11', 'yr12', 'yr13', 'yr14', 'yr15', 'yr16', 'yr17', 'yr18', 'yr19', 'yr20', 'jan', 'feb', 'mar', 'apr', 'may', 'jun', 'jul', 'aug', 'sep', 'oct', 'nov']]\n",
    "y = df['ln(retail pork)']"
   ]
  },
  {
   "cell_type": "code",
   "execution_count": 8,
   "metadata": {},
   "outputs": [
    {
     "name": "stdout",
     "output_type": "stream",
     "text": [
      "                                 OLS Regression Results                                \n",
      "=======================================================================================\n",
      "Dep. Variable:        ln(retail pork)   R-squared (uncentered):                   0.958\n",
      "Model:                            OLS   Adj. R-squared (uncentered):              0.956\n",
      "Method:                 Least Squares   F-statistic:                              593.0\n",
      "Date:                Wed, 22 Jun 2022   Prob (F-statistic):                        0.00\n",
      "Time:                        12:53:29   Log-Likelihood:                         -1006.2\n",
      "No. Observations:                 623   AIC:                                      2058.\n",
      "Df Residuals:                     600   BIC:                                      2160.\n",
      "Df Model:                          23                                                  \n",
      "Covariance Type:            nonrobust                                                  \n",
      "===================================================================================\n",
      "                      coef    std err          t      P>|t|      [0.025      0.975]\n",
      "-----------------------------------------------------------------------------------\n",
      "ln(utilization)    -5.6784      0.768     -7.390      0.000      -7.188      -4.169\n",
      "yr10                1.5808      0.270      5.846      0.000       1.050       2.112\n",
      "yr11                1.7789      0.262      6.785      0.000       1.264       2.294\n",
      "yr12                1.8270      0.256      7.148      0.000       1.325       2.329\n",
      "yr13                1.8478      0.261      7.082      0.000       1.335       2.360\n",
      "yr14                1.6664      0.281      5.923      0.000       1.114       2.219\n",
      "yr15                2.0740      0.245      8.471      0.000       1.593       2.555\n",
      "yr16                2.2447      0.233      9.630      0.000       1.787       2.702\n",
      "yr17                2.4502      0.224     10.954      0.000       2.011       2.890\n",
      "yr18                2.5321      0.218     11.600      0.000       2.103       2.961\n",
      "yr19                2.8085      0.211     13.295      0.000       2.394       3.223\n",
      "yr20                2.8527      0.211     13.511      0.000       2.438       3.267\n",
      "jan                 2.8171      0.213     13.247      0.000       2.399       3.235\n",
      "feb                 2.7999      0.220     12.735      0.000       2.368       3.232\n",
      "mar                 2.7965      0.213     13.117      0.000       2.378       3.215\n",
      "apr                 2.6445      0.221     11.957      0.000       2.210       3.079\n",
      "may                 2.3593      0.234     10.071      0.000       1.899       2.819\n",
      "jun                 2.3821      0.236     10.089      0.000       1.918       2.846\n",
      "jul                 2.3133      0.240      9.655      0.000       1.843       2.784\n",
      "aug                 2.7321      0.217     12.591      0.000       2.306       3.158\n",
      "sep                 2.8568      0.216     13.256      0.000       2.434       3.280\n",
      "oct                 3.2323      0.209     15.437      0.000       2.821       3.644\n",
      "nov                 3.0882      0.210     14.719      0.000       2.676       3.500\n",
      "==============================================================================\n",
      "Omnibus:                      234.124   Durbin-Watson:                   0.371\n",
      "Prob(Omnibus):                  0.000   Jarque-Bera (JB):              640.685\n",
      "Skew:                           1.930   Prob(JB):                    7.53e-140\n",
      "Kurtosis:                       6.126   Cond. No.                         8.43\n",
      "==============================================================================\n",
      "\n",
      "Notes:\n",
      "[1] R² is computed without centering (uncentered) since the model does not contain a constant.\n",
      "[2] Standard Errors assume that the covariance matrix of the errors is correctly specified.\n"
     ]
    }
   ],
   "source": [
    "result = sm.OLS(y, X).fit()\n",
    "print(result.summary())"
   ]
  }
 ],
 "metadata": {
  "kernelspec": {
   "display_name": "Python 3.9.12 ('base')",
   "language": "python",
   "name": "python3"
  },
  "language_info": {
   "codemirror_mode": {
    "name": "ipython",
    "version": 3
   },
   "file_extension": ".py",
   "mimetype": "text/x-python",
   "name": "python",
   "nbconvert_exporter": "python",
   "pygments_lexer": "ipython3",
   "version": "3.9.12"
  },
  "orig_nbformat": 4,
  "vscode": {
   "interpreter": {
    "hash": "6582d9aacd0dc7401298f5a8a5bb6397bff1cf9d99f4570a5bbb2483f843f71c"
   }
  }
 },
 "nbformat": 4,
 "nbformat_minor": 2
}
