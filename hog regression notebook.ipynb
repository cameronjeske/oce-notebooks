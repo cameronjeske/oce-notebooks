{
 "cells": [
  {
   "cell_type": "markdown",
   "id": "e561846e",
   "metadata": {},
   "source": [
    "# Hog Price Regression"
   ]
  },
  {
   "cell_type": "markdown",
   "id": "4d292696",
   "metadata": {},
   "source": [
    "This notebook outlines the process of running a multiple regression on a dataset including weighted average hog prices and utilization rates from 2010-2021. It is for a research paper as a part of my AURA fellowship."
   ]
  },
  {
   "cell_type": "markdown",
   "id": "399e639d",
   "metadata": {},
   "source": [
    "First, we import our needed libraries."
   ]
  },
  {
   "cell_type": "code",
   "execution_count": 5,
   "id": "eda8e11b",
   "metadata": {},
   "outputs": [],
   "source": [
    "import pandas as pd\n",
    "from sklearn.linear_model import LinearRegression\n",
    "import statsmodels.api as sm\n",
    "import numpy as np"
   ]
  },
  {
   "cell_type": "markdown",
   "id": "e5b01bc9",
   "metadata": {},
   "source": [
    "Next, let's read the .csv file using Pandas' read_csv() function and create our dataframe using pd.DataFrame()."
   ]
  },
  {
   "cell_type": "code",
   "execution_count": 6,
   "id": "14d02f3e",
   "metadata": {},
   "outputs": [],
   "source": [
    "sheet = pd.read_csv(r'C:\\Users\\csjes\\Desktop\\test.csv')\n",
    "df = pd.DataFrame(sheet, columns = ['yr10', 'yr11', 'yr12', 'yr13', 'yr14', 'yr15', 'yr16', 'yr17', 'yr18', 'yr19', 'yr20', 'jan', 'feb', 'mar', 'apr', 'may', 'jun', 'jul', 'aug', 'sep', 'oct', 'nov', 'ln(utilization)', 'ln(wtd ave net price)'])"
   ]
  },
  {
   "cell_type": "markdown",
   "id": "e23eea79",
   "metadata": {},
   "source": [
    "We have a lot of columns in this dataset due to our use of \"dummy\" variables for year and month."
   ]
  },
  {
   "cell_type": "markdown",
   "id": "c7356809",
   "metadata": {},
   "source": [
    "Next, we need to define our variables that will be used in the regression."
   ]
  },
  {
   "cell_type": "code",
   "execution_count": 7,
   "id": "c6c15705",
   "metadata": {},
   "outputs": [],
   "source": [
    "X = df[['ln(utilization)', 'yr10', 'yr11', 'yr12', 'yr13', 'yr14', 'yr15', 'yr16', 'yr17', 'yr18', 'yr19', 'yr20', 'jan', 'feb', 'mar', 'apr', 'may', 'jun', 'jul', 'aug', 'sep', 'oct', 'nov']]\n",
    "y = df['ln(wtd ave net price)']"
   ]
  },
  {
   "cell_type": "markdown",
   "id": "3bd95147",
   "metadata": {},
   "source": [
    "The variable 'X' contains our independent variables. These are the variables that we hope to see have an impact on our dependent variable.\n",
    "The variable 'y' contains our dependent variable. We want to see whether the independent variables impact the weighted average net price of hogs."
   ]
  },
  {
   "cell_type": "markdown",
   "id": "75ebadae",
   "metadata": {},
   "source": [
    "Finally, we need to add a constant, fit the model, and print the results."
   ]
  },
  {
   "cell_type": "code",
   "execution_count": 8,
   "id": "b3b627c1",
   "metadata": {},
   "outputs": [
    {
     "name": "stdout",
     "output_type": "stream",
     "text": [
      "                              OLS Regression Results                             \n",
      "=================================================================================\n",
      "Dep. Variable:     ln(wtd ave net price)   R-squared:                       0.778\n",
      "Model:                               OLS   Adj. R-squared:                  0.769\n",
      "Method:                    Least Squares   F-statistic:                     91.25\n",
      "Date:                   Tue, 21 Jun 2022   Prob (F-statistic):          9.35e-179\n",
      "Time:                           14:25:55   Log-Likelihood:                 626.15\n",
      "No. Observations:                    624   AIC:                            -1204.\n",
      "Df Residuals:                        600   BIC:                            -1098.\n",
      "Df Model:                             23                                         \n",
      "Covariance Type:               nonrobust                                         \n",
      "===================================================================================\n",
      "                      coef    std err          t      P>|t|      [0.025      0.975]\n",
      "-----------------------------------------------------------------------------------\n",
      "const               4.3833      0.018    243.594      0.000       4.348       4.419\n",
      "ln(utilization)    -0.1538      0.058     -2.642      0.008      -0.268      -0.039\n",
      "yr10               -0.2183      0.020    -10.709      0.000      -0.258      -0.178\n",
      "yr11               -0.0361      0.020     -1.815      0.070      -0.075       0.003\n",
      "yr12               -0.0668      0.019     -3.425      0.001      -0.105      -0.028\n",
      "yr13               -0.0304      0.020     -1.531      0.126      -0.069       0.009\n",
      "yr14                0.0935      0.021      4.449      0.000       0.052       0.135\n",
      "yr15               -0.2458      0.019    -13.000      0.000      -0.283      -0.209\n",
      "yr16               -0.3233      0.018    -17.625      0.000      -0.359      -0.287\n",
      "yr17               -0.2381      0.018    -13.245      0.000      -0.273      -0.203\n",
      "yr18               -0.3071      0.018    -17.286      0.000      -0.342      -0.272\n",
      "yr19               -0.2595      0.018    -14.669      0.000      -0.294      -0.225\n",
      "yr20               -0.3488      0.018    -19.728      0.000      -0.384      -0.314\n",
      "jan                 0.0075      0.018      0.423      0.672      -0.027       0.042\n",
      "feb                 0.0461      0.018      2.554      0.011       0.011       0.082\n",
      "mar                 0.0724      0.018      4.116      0.000       0.038       0.107\n",
      "apr                 0.0935      0.018      5.228      0.000       0.058       0.129\n",
      "may                 0.1666      0.018      9.074      0.000       0.131       0.203\n",
      "jun                 0.1962      0.019     10.607      0.000       0.160       0.233\n",
      "jul                 0.1963      0.019     10.533      0.000       0.160       0.233\n",
      "aug                 0.1656      0.018      9.367      0.000       0.131       0.200\n",
      "sep                 0.0825      0.018      4.645      0.000       0.048       0.117\n",
      "oct                 0.1012      0.018      5.634      0.000       0.066       0.136\n",
      "nov                 0.0188      0.018      1.058      0.290      -0.016       0.054\n",
      "==============================================================================\n",
      "Omnibus:                       24.546   Durbin-Watson:                   0.243\n",
      "Prob(Omnibus):                  0.000   Jarque-Bera (JB):               27.184\n",
      "Skew:                          -0.450   Prob(JB):                     1.25e-06\n",
      "Kurtosis:                       3.484   Cond. No.                         20.0\n",
      "==============================================================================\n",
      "\n",
      "Notes:\n",
      "[1] Standard Errors assume that the covariance matrix of the errors is correctly specified.\n"
     ]
    }
   ],
   "source": [
    "X = sm.add_constant(X)\n",
    "result = sm.OLS(y, X).fit()\n",
    "print(result.summary())"
   ]
  },
  {
   "cell_type": "markdown",
   "id": "c18bbf4b",
   "metadata": {},
   "source": [
    "# Results"
   ]
  },
  {
   "cell_type": "markdown",
   "id": "b770066c",
   "metadata": {},
   "source": [
    "Let's interpret what we see.\n",
    "\n",
    "The first note of importance is our Prob (F-statistic). This value describes how statistically significant our model is as a whole. This value is incredibly small, which would suggest that our model is significant at essentially all confidence levels.\n",
    "\n",
    "We can also see that a majority of our independent variables have a P>|t| (also known as a P-value) of less than alpha = 0.05, which suggests that our individual variables that meet that condition are significant at the 95% confidence level. The variables that don't meet this threshold are 'yr11', 'yr13', 'jan', and 'nov'.\n",
    "\n",
    "The next area of interest is our coefficient values. We can see that, generally speaking, prices for producers have decreased over time. The variable 'yr20' has the largest average decrease in prices, with a coefficient of -0.3488.\n",
    "\n",
    "We can also suggest that an increase in utilization ratio leads to an average decrease in price.\n",
    "\n",
    "We can also see a variation in price based on seasonal information. Coefficient values for certain months are higher than others. If we have some knowledge of demand for hogs, we know that prices tend to be higher for consumers during summer months, as people tend to enjoy barbequing and cooking out in the warm weather. Our model supports this hypothesis, as our coefficient values for the months June, July, and August are the highest for our month variables."
   ]
  }
 ],
 "metadata": {
  "kernelspec": {
   "display_name": "Python 3 (ipykernel)",
   "language": "python",
   "name": "python3"
  },
  "language_info": {
   "codemirror_mode": {
    "name": "ipython",
    "version": 3
   },
   "file_extension": ".py",
   "mimetype": "text/x-python",
   "name": "python",
   "nbconvert_exporter": "python",
   "pygments_lexer": "ipython3",
   "version": "3.9.12"
  }
 },
 "nbformat": 4,
 "nbformat_minor": 5
}
