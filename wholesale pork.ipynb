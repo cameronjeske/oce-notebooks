{
 "cells": [
  {
   "cell_type": "code",
   "execution_count": 13,
   "metadata": {},
   "outputs": [],
   "source": [
    "import pandas as pd\n",
    "from sklearn.linear_model import LinearRegression\n",
    "import statsmodels.api as sm\n",
    "import numpy as np"
   ]
  },
  {
   "cell_type": "code",
   "execution_count": 14,
   "metadata": {},
   "outputs": [],
   "source": [
    "sheet = pd.read_csv(r'C:\\Users\\csjes\\Desktop\\all hog prices.csv')\n",
    "df = pd.DataFrame(sheet, columns = ['yr10', 'yr11', 'yr12', 'yr13', 'yr14', 'yr15', 'yr16', 'yr17', 'yr18', 'yr19', 'yr20', 'jan', 'feb', 'mar', 'apr', 'may', 'jun', 'jul', 'aug', 'sep', 'oct', 'nov', 'ln(utilization)', 'ln(pork)'])"
   ]
  },
  {
   "cell_type": "code",
   "execution_count": 15,
   "metadata": {},
   "outputs": [],
   "source": [
    "X = df[['ln(utilization)', 'yr10', 'yr11', 'yr12', 'yr13', 'yr14', 'yr15', 'yr16', 'yr17', 'yr18', 'yr19', 'yr20', 'jan', 'feb', 'mar', 'apr', 'may', 'jun', 'jul', 'aug', 'sep', 'oct', 'nov']]\n",
    "y = df['ln(pork)']"
   ]
  },
  {
   "cell_type": "code",
   "execution_count": 16,
   "metadata": {},
   "outputs": [
    {
     "name": "stdout",
     "output_type": "stream",
     "text": [
      "                            OLS Regression Results                            \n",
      "==============================================================================\n",
      "Dep. Variable:               ln(pork)   R-squared:                       0.695\n",
      "Model:                            OLS   Adj. R-squared:                  0.684\n",
      "Method:                 Least Squares   F-statistic:                     62.13\n",
      "Date:                Wed, 22 Jun 2022   Prob (F-statistic):          1.06e-138\n",
      "Time:                        12:06:01   Log-Likelihood:                 635.12\n",
      "No. Observations:                 623   AIC:                            -1224.\n",
      "Df Residuals:                     600   BIC:                            -1122.\n",
      "Df Model:                          22                                         \n",
      "Covariance Type:            nonrobust                                         \n",
      "===================================================================================\n",
      "                      coef    std err          t      P>|t|      [0.025      0.975]\n",
      "-----------------------------------------------------------------------------------\n",
      "const               4.5737      0.015    297.779      0.000       4.544       4.604\n",
      "ln(utilization)    -0.2137      0.057     -3.730      0.000      -0.326      -0.101\n",
      "yr10               -0.2781      0.020    -13.757      0.000      -0.318      -0.238\n",
      "yr11               -0.1284      0.020     -6.505      0.000      -0.167      -0.090\n",
      "yr12               -0.2286      0.019    -11.840      0.000      -0.267      -0.191\n",
      "yr13               -0.1409      0.020     -7.170      0.000      -0.179      -0.102\n",
      "yr14                0.0148      0.021      0.712      0.477      -0.026       0.056\n",
      "yr15               -0.2919      0.019    -15.583      0.000      -0.329      -0.255\n",
      "yr16               -0.2909      0.018    -16.007      0.000      -0.327      -0.255\n",
      "yr17               -0.2189      0.018    -12.299      0.000      -0.254      -0.184\n",
      "yr18               -0.3241      0.018    -18.451      0.000      -0.359      -0.290\n",
      "yr19               -0.2908      0.017    -16.648      0.000      -0.325      -0.257\n",
      "yr20               -0.3007      0.017    -17.223      0.000      -0.335      -0.266\n",
      "jan                -0.0416      0.015     -2.749      0.006      -0.071      -0.012\n",
      "feb                -0.0376      0.016     -2.404      0.017      -0.068      -0.007\n",
      "mar                -0.0081      0.015     -0.536      0.592      -0.038       0.022\n",
      "apr                -0.0030      0.016     -0.194      0.846      -0.034       0.028\n",
      "may                 0.0783      0.016      4.819      0.000       0.046       0.110\n",
      "jun                 0.0949      0.016      5.784      0.000       0.063       0.127\n",
      "jul                 0.0937      0.017      5.635      0.000       0.061       0.126\n",
      "aug                 0.0973      0.015      6.375      0.000       0.067       0.127\n",
      "sep                 0.0519      0.015      3.392      0.001       0.022       0.082\n",
      "oct                 0.0788      0.015      5.146      0.000       0.049       0.109\n",
      "nov                      0          0        nan        nan           0           0\n",
      "==============================================================================\n",
      "Omnibus:                        8.969   Durbin-Watson:                   0.321\n",
      "Prob(Omnibus):                  0.011   Jarque-Bera (JB):               12.677\n",
      "Skew:                          -0.110   Prob(JB):                      0.00177\n",
      "Kurtosis:                       3.663   Cond. No.                          inf\n",
      "==============================================================================\n",
      "\n",
      "Notes:\n",
      "[1] Standard Errors assume that the covariance matrix of the errors is correctly specified.\n",
      "[2] The smallest eigenvalue is      0. This might indicate that there are\n",
      "strong multicollinearity problems or that the design matrix is singular.\n"
     ]
    },
    {
     "name": "stderr",
     "output_type": "stream",
     "text": [
      "c:\\Users\\csjes\\anaconda3\\lib\\site-packages\\statsmodels\\regression\\linear_model.py:1918: RuntimeWarning: divide by zero encountered in double_scalars\n",
      "  return np.sqrt(eigvals[0]/eigvals[-1])\n"
     ]
    }
   ],
   "source": [
    "X = sm.add_constant(X)\n",
    "result = sm.OLS(y, X).fit()\n",
    "print(result.summary())"
   ]
  }
 ],
 "metadata": {
  "kernelspec": {
   "display_name": "Python 3.9.12 ('base')",
   "language": "python",
   "name": "python3"
  },
  "language_info": {
   "codemirror_mode": {
    "name": "ipython",
    "version": 3
   },
   "file_extension": ".py",
   "mimetype": "text/x-python",
   "name": "python",
   "nbconvert_exporter": "python",
   "pygments_lexer": "ipython3",
   "version": "3.9.12"
  },
  "orig_nbformat": 4,
  "vscode": {
   "interpreter": {
    "hash": "6582d9aacd0dc7401298f5a8a5bb6397bff1cf9d99f4570a5bbb2483f843f71c"
   }
  }
 },
 "nbformat": 4,
 "nbformat_minor": 2
}
