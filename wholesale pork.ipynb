{
 "cells": [
  {
   "cell_type": "code",
   "execution_count": 21,
   "metadata": {},
   "outputs": [],
   "source": [
    "import pandas as pd\n",
    "from sklearn.linear_model import LinearRegression\n",
    "import statsmodels.api as sm\n",
    "import numpy as np"
   ]
  },
  {
   "cell_type": "code",
   "execution_count": 22,
   "metadata": {},
   "outputs": [],
   "source": [
    "sheet = pd.read_csv(r'C:\\Users\\csjes\\Desktop\\all hog prices.csv')\n",
    "df = pd.DataFrame(sheet, columns = ['yr10', 'yr11', 'yr12', 'yr13', 'yr14', 'yr15', 'yr16', 'yr17', 'yr18', 'yr19', 'yr20', 'jan', 'feb', 'mar', 'apr', 'may', 'jun', 'jul', 'aug', 'sep', 'oct', 'nov', 'ln(utilization)', 'ln(pork)'])"
   ]
  },
  {
   "cell_type": "code",
   "execution_count": 23,
   "metadata": {},
   "outputs": [],
   "source": [
    "X = df[['ln(utilization)', 'yr10', 'yr11', 'yr12', 'yr13', 'yr14', 'yr15', 'yr16', 'yr17', 'yr18', 'yr19', 'yr20', 'jan', 'feb', 'mar', 'apr', 'may', 'jun', 'jul', 'aug', 'sep', 'oct', 'nov']]\n",
    "y = df['ln(pork)']"
   ]
  },
  {
   "cell_type": "code",
   "execution_count": 24,
   "metadata": {},
   "outputs": [
    {
     "name": "stdout",
     "output_type": "stream",
     "text": [
      "                            OLS Regression Results                            \n",
      "==============================================================================\n",
      "Dep. Variable:               ln(pork)   R-squared:                       0.696\n",
      "Model:                            OLS   Adj. R-squared:                  0.685\n",
      "Method:                 Least Squares   F-statistic:                     59.74\n",
      "Date:                Wed, 22 Jun 2022   Prob (F-statistic):          2.08e-138\n",
      "Time:                        13:04:33   Log-Likelihood:                 636.61\n",
      "No. Observations:                 623   AIC:                            -1225.\n",
      "Df Residuals:                     599   BIC:                            -1119.\n",
      "Df Model:                          23                                         \n",
      "Covariance Type:            nonrobust                                         \n",
      "===================================================================================\n",
      "                      coef    std err          t      P>|t|      [0.025      0.975]\n",
      "-----------------------------------------------------------------------------------\n",
      "const               4.5581      0.018    255.041      0.000       4.523       4.593\n",
      "ln(utilization)    -0.2232      0.057     -3.884      0.000      -0.336      -0.110\n",
      "yr10               -0.2795      0.020    -13.837      0.000      -0.319      -0.240\n",
      "yr11               -0.1296      0.020     -6.574      0.000      -0.168      -0.091\n",
      "yr12               -0.2303      0.019    -11.929      0.000      -0.268      -0.192\n",
      "yr13               -0.1426      0.020     -7.260      0.000      -0.181      -0.104\n",
      "yr14                0.0129      0.021      0.621      0.535      -0.028       0.054\n",
      "yr15               -0.2931      0.019    -15.658      0.000      -0.330      -0.256\n",
      "yr16               -0.2915      0.018    -16.063      0.000      -0.327      -0.256\n",
      "yr17               -0.2192      0.018    -12.334      0.000      -0.254      -0.184\n",
      "yr18               -0.3247      0.018    -18.511      0.000      -0.359      -0.290\n",
      "yr19               -0.2910      0.017    -16.685      0.000      -0.325      -0.257\n",
      "yr20               -0.3006      0.017    -17.243      0.000      -0.335      -0.266\n",
      "jan                -0.0271      0.017     -1.560      0.119      -0.061       0.007\n",
      "feb                -0.0230      0.018     -1.293      0.197      -0.058       0.012\n",
      "mar                 0.0065      0.017      0.373      0.709      -0.028       0.041\n",
      "apr                 0.0112      0.018      0.632      0.528      -0.024       0.046\n",
      "may                 0.0921      0.018      5.073      0.000       0.056       0.128\n",
      "jun                 0.1087      0.018      5.940      0.000       0.073       0.145\n",
      "jul                 0.1073      0.018      5.818      0.000       0.071       0.144\n",
      "aug                 0.1117      0.017      6.401      0.000       0.077       0.146\n",
      "sep                 0.0664      0.018      3.791      0.000       0.032       0.101\n",
      "oct                 0.0939      0.018      5.306      0.000       0.059       0.129\n",
      "nov                 0.0297      0.018      1.693      0.091      -0.005       0.064\n",
      "==============================================================================\n",
      "Omnibus:                        8.754   Durbin-Watson:                   0.327\n",
      "Prob(Omnibus):                  0.013   Jarque-Bera (JB):               12.283\n",
      "Skew:                          -0.108   Prob(JB):                      0.00215\n",
      "Kurtosis:                       3.653   Cond. No.                         20.2\n",
      "==============================================================================\n",
      "\n",
      "Notes:\n",
      "[1] Standard Errors assume that the covariance matrix of the errors is correctly specified.\n"
     ]
    }
   ],
   "source": [
    "X = sm.add_constant(X)\n",
    "result = sm.OLS(y, X).fit()\n",
    "print(result.summary())"
   ]
  }
 ],
 "metadata": {
  "kernelspec": {
   "display_name": "Python 3.9.12 ('base')",
   "language": "python",
   "name": "python3"
  },
  "language_info": {
   "codemirror_mode": {
    "name": "ipython",
    "version": 3
   },
   "file_extension": ".py",
   "mimetype": "text/x-python",
   "name": "python",
   "nbconvert_exporter": "python",
   "pygments_lexer": "ipython3",
   "version": "3.9.12"
  },
  "orig_nbformat": 4,
  "vscode": {
   "interpreter": {
    "hash": "6582d9aacd0dc7401298f5a8a5bb6397bff1cf9d99f4570a5bbb2483f843f71c"
   }
  }
 },
 "nbformat": 4,
 "nbformat_minor": 2
}
