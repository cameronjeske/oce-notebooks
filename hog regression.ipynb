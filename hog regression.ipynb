{
 "cells": [
  {
   "cell_type": "markdown",
   "id": "e561846e",
   "metadata": {},
   "source": [
    "# Hog Price Regression"
   ]
  },
  {
   "cell_type": "markdown",
   "id": "4d292696",
   "metadata": {},
   "source": [
    "This notebook outlines the process of running a multiple regression on a dataset including weighted average hog prices and utilization rates from 2010-2021. It is for a research paper as a part of my AURA fellowship."
   ]
  },
  {
   "cell_type": "markdown",
   "id": "399e639d",
   "metadata": {},
   "source": [
    "First, we import our needed libraries."
   ]
  },
  {
   "cell_type": "code",
   "execution_count": 19,
   "id": "eda8e11b",
   "metadata": {},
   "outputs": [],
   "source": [
    "import pandas as pd\n",
    "from sklearn.linear_model import LinearRegression\n",
    "import statsmodels.api as sm\n",
    "import numpy as np"
   ]
  },
  {
   "cell_type": "markdown",
   "id": "e5b01bc9",
   "metadata": {},
   "source": [
    "Next, let's read the .csv file using Pandas' read_csv() function and create our dataframe using pd.DataFrame()."
   ]
  },
  {
   "cell_type": "code",
   "execution_count": 20,
   "id": "14d02f3e",
   "metadata": {},
   "outputs": [],
   "source": [
    "sheet = pd.read_csv(r'C:\\Users\\csjes\\Desktop\\all hog prices.csv')\n",
    "df = pd.DataFrame(sheet, columns = ['yr10', 'yr11', 'yr12', 'yr13', 'yr14', 'yr15', 'yr16', 'yr17', 'yr18', 'yr19', 'yr20', 'jan', 'feb', 'mar', 'apr', 'may', 'jun', 'jul', 'aug', 'sep', 'oct', 'nov', 'ln(utilization)', 'ln(wtd ave net price)'])"
   ]
  },
  {
   "cell_type": "markdown",
   "id": "e23eea79",
   "metadata": {},
   "source": [
    "We have a lot of columns in this dataset due to our use of \"dummy\" variables for year and month."
   ]
  },
  {
   "cell_type": "markdown",
   "id": "c7356809",
   "metadata": {},
   "source": [
    "Next, we need to define our variables that will be used in the regression."
   ]
  },
  {
   "cell_type": "code",
   "execution_count": 21,
   "id": "c6c15705",
   "metadata": {},
   "outputs": [],
   "source": [
    "X = df[['ln(utilization)', 'yr10', 'yr11', 'yr12', 'yr13', 'yr14', 'yr15', 'yr16', 'yr17', 'yr18', 'yr19', 'yr20', 'jan', 'feb', 'mar', 'apr', 'may', 'jun', 'jul', 'aug', 'sep', 'oct', 'nov']]\n",
    "y = df['ln(wtd ave net price)']"
   ]
  },
  {
   "cell_type": "markdown",
   "id": "3bd95147",
   "metadata": {},
   "source": [
    "The variable 'X' contains our independent variables. These are the variables that we hope to see have an impact on our dependent variable.\n",
    "The variable 'y' contains our dependent variable. We want to see whether the independent variables impact the weighted average net price of hogs."
   ]
  },
  {
   "cell_type": "markdown",
   "id": "75ebadae",
   "metadata": {},
   "source": [
    "Finally we need to fit the model and print the results. We don't need to add a constant since our data is coded in dummy variables."
   ]
  },
  {
   "cell_type": "code",
   "execution_count": 22,
   "id": "b3b627c1",
   "metadata": {},
   "outputs": [
    {
     "name": "stdout",
     "output_type": "stream",
     "text": [
      "                                  OLS Regression Results                                  \n",
      "==========================================================================================\n",
      "Dep. Variable:     ln(wtd ave net price)   R-squared (uncentered):                   0.959\n",
      "Model:                               OLS   Adj. R-squared (uncentered):              0.958\n",
      "Method:                    Least Squares   F-statistic:                              614.7\n",
      "Date:                   Wed, 22 Jun 2022   Prob (F-statistic):                        0.00\n",
      "Time:                           12:50:08   Log-Likelihood:                         -802.82\n",
      "No. Observations:                    623   AIC:                                      1652.\n",
      "Df Residuals:                        600   BIC:                                      1754.\n",
      "Df Model:                             23                                                  \n",
      "Covariance Type:               nonrobust                                                  \n",
      "===================================================================================\n",
      "                      coef    std err          t      P>|t|      [0.025      0.975]\n",
      "-----------------------------------------------------------------------------------\n",
      "ln(utilization)    -4.2144      0.554     -7.602      0.000      -5.303      -3.126\n",
      "yr10                1.1819      0.195      6.057      0.000       0.799       1.565\n",
      "yr11                1.4347      0.189      7.584      0.000       1.063       1.806\n",
      "yr12                1.4315      0.184      7.763      0.000       1.069       1.794\n",
      "yr13                1.4484      0.188      7.694      0.000       1.079       1.818\n",
      "yr14                1.3716      0.203      6.758      0.000       0.973       1.770\n",
      "yr15                1.3535      0.177      7.662      0.000       1.007       1.700\n",
      "yr16                1.4179      0.168      8.431      0.000       1.088       1.748\n",
      "yr17                1.6434      0.161     10.183      0.000       1.326       1.960\n",
      "yr18                1.6405      0.157     10.417      0.000       1.331       1.950\n",
      "yr19                1.8670      0.152     12.250      0.000       1.568       2.166\n",
      "yr20                1.7765      0.152     11.662      0.000       1.477       2.076\n",
      "jan                 2.0566      0.153     13.404      0.000       1.755       2.358\n",
      "feb                 2.0813      0.159     13.121      0.000       1.770       2.393\n",
      "mar                 2.0982      0.154     13.641      0.000       1.796       2.400\n",
      "apr                 2.0092      0.160     12.592      0.000       1.696       2.323\n",
      "may                 1.8687      0.169     11.056      0.000       1.537       2.201\n",
      "jun                 1.9078      0.170     11.200      0.000       1.573       2.242\n",
      "jul                 1.8524      0.173     10.716      0.000       1.513       2.192\n",
      "aug                 2.1124      0.157     13.494      0.000       1.805       2.420\n",
      "sep                 2.1143      0.155     13.599      0.000       1.809       2.420\n",
      "oct                 2.4030      0.151     15.907      0.000       2.106       2.700\n",
      "nov                 2.2250      0.151     14.699      0.000       1.928       2.522\n",
      "==============================================================================\n",
      "Omnibus:                      224.535   Durbin-Watson:                   0.381\n",
      "Prob(Omnibus):                  0.000   Jarque-Bera (JB):              581.260\n",
      "Skew:                           1.879   Prob(JB):                    6.04e-127\n",
      "Kurtosis:                       5.875   Cond. No.                         8.43\n",
      "==============================================================================\n",
      "\n",
      "Notes:\n",
      "[1] R² is computed without centering (uncentered) since the model does not contain a constant.\n",
      "[2] Standard Errors assume that the covariance matrix of the errors is correctly specified.\n"
     ]
    }
   ],
   "source": [
    "result = sm.OLS(y, X).fit()\n",
    "print(result.summary())"
   ]
  },
  {
   "cell_type": "markdown",
   "id": "c18bbf4b",
   "metadata": {},
   "source": [
    "# Results"
   ]
  },
  {
   "cell_type": "markdown",
   "id": "b770066c",
   "metadata": {},
   "source": [
    "Let's interpret what we see.\n",
    "\n",
    "The first note of importance is our Prob (F-statistic). This value describes how statistically significant our model is as a whole. This value is small, which would suggest that our model is significant at most confidence levels.\n",
    "\n",
    "We can also see that a majority of our independent variables have a P>|t| (also known as a P-value) of less than alpha = 0.05, which suggests that our individual variables that meet that condition are significant at the 95% confidence level. The variables that don't meet this threshold are 'yr11', 'yr13', 'jan', and 'nov'.\n",
    "\n",
    "The next area of interest is our coefficient values. We can see that, generally speaking, prices for producers have increased over time. The variable 'yr19' has the largest average increase in prices, with a coefficient of 1.867.\n",
    "\n",
    "We can also suggest that an increase in utilization ratio leads to an average decrease in price.\n",
    "\n",
    "We can also see a variation in price based on seasonal information. Coefficient values for certain months are higher than others. If we have some knowledge of demand for hogs, we know that prices tend to be lower for producers during summer months, demand increases during this time. Our model supports this hypothesis, as our coefficient values for the months June, July, and August are the lowest for our month variables."
   ]
  }
 ],
 "metadata": {
  "kernelspec": {
   "display_name": "Python 3.9.12 ('base')",
   "language": "python",
   "name": "python3"
  },
  "language_info": {
   "codemirror_mode": {
    "name": "ipython",
    "version": 3
   },
   "file_extension": ".py",
   "mimetype": "text/x-python",
   "name": "python",
   "nbconvert_exporter": "python",
   "pygments_lexer": "ipython3",
   "version": "3.9.12"
  },
  "vscode": {
   "interpreter": {
    "hash": "6582d9aacd0dc7401298f5a8a5bb6397bff1cf9d99f4570a5bbb2483f843f71c"
   }
  }
 },
 "nbformat": 4,
 "nbformat_minor": 5
}
