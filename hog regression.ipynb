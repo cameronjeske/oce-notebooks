{
 "cells": [
  {
   "cell_type": "markdown",
   "id": "e561846e",
   "metadata": {},
   "source": [
    "# Hog Price Regression"
   ]
  },
  {
   "cell_type": "markdown",
   "id": "4d292696",
   "metadata": {},
   "source": [
    "This notebook outlines the process of running a multiple regression on a dataset including weighted average hog prices and utilization rates from 2010-2021. It is for a research paper as a part of my AURA fellowship."
   ]
  },
  {
   "cell_type": "markdown",
   "id": "399e639d",
   "metadata": {},
   "source": [
    "First, we import our needed libraries."
   ]
  },
  {
   "cell_type": "code",
   "execution_count": 3,
   "id": "eda8e11b",
   "metadata": {},
   "outputs": [],
   "source": [
    "import pandas as pd\n",
    "from sklearn.linear_model import LinearRegression\n",
    "import statsmodels.api as sm\n",
    "import numpy as np"
   ]
  },
  {
   "cell_type": "markdown",
   "id": "e5b01bc9",
   "metadata": {},
   "source": [
    "Next, let's read the .csv file using Pandas' read_csv() function and create our dataframe using pd.DataFrame()."
   ]
  },
  {
   "cell_type": "code",
   "execution_count": 4,
   "id": "14d02f3e",
   "metadata": {},
   "outputs": [],
   "source": [
    "sheet = pd.read_csv(r'C:\\Users\\csjes\\Desktop\\all hog prices.csv')\n",
    "df = pd.DataFrame(sheet, columns = ['yr10', 'yr11', 'yr12', 'yr13', 'yr14', 'yr15', 'yr16', 'yr17', 'yr18', 'yr19', 'yr20', 'jan', 'feb', 'mar', 'apr', 'may', 'jun', 'jul', 'aug', 'sep', 'oct', 'nov', 'ln(utilization)', 'ln(wtd ave net price)'])"
   ]
  },
  {
   "cell_type": "markdown",
   "id": "e23eea79",
   "metadata": {},
   "source": [
    "We have a lot of columns in this dataset due to our use of \"dummy\" variables for year and month."
   ]
  },
  {
   "cell_type": "markdown",
   "id": "c7356809",
   "metadata": {},
   "source": [
    "Next, we need to define our variables that will be used in the regression."
   ]
  },
  {
   "cell_type": "code",
   "execution_count": 5,
   "id": "c6c15705",
   "metadata": {},
   "outputs": [],
   "source": [
    "X = df[['ln(utilization)', 'yr10', 'yr11', 'yr12', 'yr13', 'yr14', 'yr15', 'yr16', 'yr17', 'yr18', 'yr19', 'yr20', 'jan', 'feb', 'mar', 'apr', 'may', 'jun', 'jul', 'aug', 'sep', 'oct', 'nov']]\n",
    "y = df['ln(wtd ave net price)']"
   ]
  },
  {
   "cell_type": "markdown",
   "id": "3bd95147",
   "metadata": {},
   "source": [
    "The variable 'X' contains our independent variables. These are the variables that we hope to see have an impact on our dependent variable.\n",
    "The variable 'y' contains our dependent variable. We want to see whether the independent variables impact the weighted average net price of hogs."
   ]
  },
  {
   "cell_type": "markdown",
   "id": "75ebadae",
   "metadata": {},
   "source": [
    "Finally, we need to add a constant, fit the model, and print the results."
   ]
  },
  {
   "cell_type": "code",
   "execution_count": 6,
   "id": "b3b627c1",
   "metadata": {},
   "outputs": [
    {
     "name": "stdout",
     "output_type": "stream",
     "text": [
      "                              OLS Regression Results                             \n",
      "=================================================================================\n",
      "Dep. Variable:     ln(wtd ave net price)   R-squared:                       0.778\n",
      "Model:                               OLS   Adj. R-squared:                  0.770\n",
      "Method:                    Least Squares   F-statistic:                     91.31\n",
      "Date:                   Wed, 22 Jun 2022   Prob (F-statistic):          1.14e-178\n",
      "Time:                           12:18:17   Log-Likelihood:                 625.21\n",
      "No. Observations:                    623   AIC:                            -1202.\n",
      "Df Residuals:                        599   BIC:                            -1096.\n",
      "Df Model:                             23                                         \n",
      "Covariance Type:               nonrobust                                         \n",
      "===================================================================================\n",
      "                      coef    std err          t      P>|t|      [0.025      0.975]\n",
      "-----------------------------------------------------------------------------------\n",
      "const               4.3862      0.018    240.973      0.000       4.350       4.422\n",
      "ln(utilization)    -0.1600      0.059     -2.734      0.006      -0.275      -0.045\n",
      "yr10               -0.2212      0.021    -10.753      0.000      -0.262      -0.181\n",
      "yr11               -0.0389      0.020     -1.939      0.053      -0.078       0.001\n",
      "yr12               -0.0694      0.020     -3.532      0.000      -0.108      -0.031\n",
      "yr13               -0.0331      0.020     -1.654      0.099      -0.072       0.006\n",
      "yr14                0.0905      0.021      4.266      0.000       0.049       0.132\n",
      "yr15               -0.2483      0.019    -13.029      0.000      -0.286      -0.211\n",
      "yr16               -0.3257      0.018    -17.621      0.000      -0.362      -0.289\n",
      "yr17               -0.2403      0.018    -13.278      0.000      -0.276      -0.205\n",
      "yr18               -0.3090      0.018    -17.300      0.000      -0.344      -0.274\n",
      "yr19               -0.2612      0.018    -14.704      0.000      -0.296      -0.226\n",
      "yr20               -0.3505      0.018    -19.742      0.000      -0.385      -0.316\n",
      "jan                 0.0055      0.018      0.313      0.755      -0.029       0.040\n",
      "feb                 0.0442      0.018      2.438      0.015       0.009       0.080\n",
      "mar                 0.0706      0.018      3.991      0.000       0.036       0.105\n",
      "apr                 0.0913      0.018      5.077      0.000       0.056       0.127\n",
      "may                 0.1643      0.018      8.880      0.000       0.128       0.201\n",
      "jun                 0.1939      0.019     10.403      0.000       0.157       0.230\n",
      "jul                 0.1938      0.019     10.314      0.000       0.157       0.231\n",
      "aug                 0.1636      0.018      9.203      0.000       0.129       0.199\n",
      "sep                 0.0806      0.018      4.518      0.000       0.046       0.116\n",
      "oct                 0.0997      0.018      5.530      0.000       0.064       0.135\n",
      "nov                 0.0172      0.018      0.965      0.335      -0.018       0.052\n",
      "==============================================================================\n",
      "Omnibus:                       24.897   Durbin-Watson:                   0.245\n",
      "Prob(Omnibus):                  0.000   Jarque-Bera (JB):               27.649\n",
      "Skew:                          -0.454   Prob(JB):                     9.91e-07\n",
      "Kurtosis:                       3.492   Cond. No.                         20.2\n",
      "==============================================================================\n",
      "\n",
      "Notes:\n",
      "[1] Standard Errors assume that the covariance matrix of the errors is correctly specified.\n"
     ]
    }
   ],
   "source": [
    "X = sm.add_constant(X)\n",
    "result = sm.OLS(y, X).fit()\n",
    "print(result.summary())"
   ]
  },
  {
   "cell_type": "markdown",
   "id": "c18bbf4b",
   "metadata": {},
   "source": [
    "# Results"
   ]
  },
  {
   "cell_type": "markdown",
   "id": "b770066c",
   "metadata": {},
   "source": [
    "Let's interpret what we see.\n",
    "\n",
    "The first note of importance is our Prob (F-statistic). This value describes how statistically significant our model is as a whole. This value is incredibly small, which would suggest that our model is significant at essentially all confidence levels.\n",
    "\n",
    "We can also see that a majority of our independent variables have a P>|t| (also known as a P-value) of less than alpha = 0.05, which suggests that our individual variables that meet that condition are significant at the 95% confidence level. The variables that don't meet this threshold are 'yr11', 'yr13', 'jan', and 'nov'.\n",
    "\n",
    "The next area of interest is our coefficient values. We can see that, generally speaking, prices for producers have decreased over time. The variable 'yr20' has the largest average decrease in prices, with a coefficient of -0.3505.\n",
    "\n",
    "We can also suggest that an increase in utilization ratio leads to an average decrease in price.\n",
    "\n",
    "We can also see a variation in price based on seasonal information. Coefficient values for certain months are higher than others. If we have some knowledge of demand for hogs, we know that prices tend to be higher for consumers during summer months, as people tend to enjoy barbequing and cooking out in the warm weather. Our model supports this hypothesis, as our coefficient values for the months June, July, and August are the highest for our month variables."
   ]
  }
 ],
 "metadata": {
  "kernelspec": {
   "display_name": "Python 3.9.12 ('base')",
   "language": "python",
   "name": "python3"
  },
  "language_info": {
   "codemirror_mode": {
    "name": "ipython",
    "version": 3
   },
   "file_extension": ".py",
   "mimetype": "text/x-python",
   "name": "python",
   "nbconvert_exporter": "python",
   "pygments_lexer": "ipython3",
   "version": "3.9.12"
  },
  "vscode": {
   "interpreter": {
    "hash": "6582d9aacd0dc7401298f5a8a5bb6397bff1cf9d99f4570a5bbb2483f843f71c"
   }
  }
 },
 "nbformat": 4,
 "nbformat_minor": 5
}
