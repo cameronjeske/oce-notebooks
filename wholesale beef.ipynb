{
 "cells": [
  {
   "cell_type": "code",
   "execution_count": 1,
   "metadata": {},
   "outputs": [
    {
     "name": "stdout",
     "output_type": "stream",
     "text": [
      "                            OLS Regression Results                            \n",
      "==============================================================================\n",
      "Dep. Variable:     ln(wholesale beef)   R-squared:                       0.807\n",
      "Model:                            OLS   Adj. R-squared:                  0.800\n",
      "Method:                 Least Squares   F-statistic:                     109.4\n",
      "Date:                Thu, 23 Jun 2022   Prob (F-statistic):          1.07e-197\n",
      "Time:                        09:49:07   Log-Likelihood:                 749.16\n",
      "No. Observations:                 626   AIC:                            -1450.\n",
      "Df Residuals:                     602   BIC:                            -1344.\n",
      "Df Model:                          23                                         \n",
      "Covariance Type:            nonrobust                                         \n",
      "===================================================================================\n",
      "                      coef    std err          t      P>|t|      [0.025      0.975]\n",
      "-----------------------------------------------------------------------------------\n",
      "const               5.5269      0.017    327.806      0.000       5.494       5.560\n",
      "ln(utilization)    -0.3782      0.045     -8.453      0.000      -0.466      -0.290\n",
      "yr10               -0.5541      0.015    -37.904      0.000      -0.583      -0.525\n",
      "yr11               -0.4146      0.015    -28.440      0.000      -0.443      -0.386\n",
      "yr12               -0.3798      0.015    -26.029      0.000      -0.408      -0.351\n",
      "yr13               -0.3620      0.015    -24.726      0.000      -0.391      -0.333\n",
      "yr14               -0.1807      0.015    -11.976      0.000      -0.210      -0.151\n",
      "yr15               -0.2066      0.016    -13.129      0.000      -0.238      -0.176\n",
      "yr16               -0.3185      0.015    -21.481      0.000      -0.348      -0.289\n",
      "yr17               -0.2837      0.015    -19.455      0.000      -0.312      -0.255\n",
      "yr18               -0.2593      0.015    -17.799      0.000      -0.288      -0.231\n",
      "yr19               -0.2170      0.015    -14.899      0.000      -0.246      -0.188\n",
      "yr20               -0.1842      0.015    -12.580      0.000      -0.213      -0.155\n",
      "jan                -0.0281      0.015     -1.935      0.053      -0.057       0.000\n",
      "feb                -0.0330      0.015     -2.219      0.027      -0.062      -0.004\n",
      "mar                 0.0306      0.015      2.097      0.036       0.002       0.059\n",
      "apr                 0.0485      0.015      3.316      0.001       0.020       0.077\n",
      "may                 0.1414      0.015      9.534      0.000       0.112       0.171\n",
      "jun                 0.1034      0.015      6.741      0.000       0.073       0.134\n",
      "jul                 0.0246      0.015      1.670      0.095      -0.004       0.054\n",
      "aug                 0.0566      0.015      3.746      0.000       0.027       0.086\n",
      "sep                 0.0319      0.015      2.146      0.032       0.003       0.061\n",
      "oct                 0.0177      0.015      1.188      0.235      -0.012       0.047\n",
      "nov                 0.0377      0.015      2.567      0.010       0.009       0.067\n",
      "==============================================================================\n",
      "Omnibus:                      169.434   Durbin-Watson:                   0.377\n",
      "Prob(Omnibus):                  0.000   Jarque-Bera (JB):             1534.582\n",
      "Skew:                           0.926   Prob(JB):                         0.00\n",
      "Kurtosis:                      10.443   Cond. No.                         17.9\n",
      "==============================================================================\n",
      "\n",
      "Notes:\n",
      "[1] Standard Errors assume that the covariance matrix of the errors is correctly specified.\n"
     ]
    }
   ],
   "source": [
    "import pandas as pd\n",
    "from sklearn.linear_model import LinearRegression\n",
    "import statsmodels.api as sm\n",
    "import numpy as np\n",
    "\n",
    "sheet = pd.read_csv(r'C:\\Users\\csjes\\Desktop\\all cattle prices.csv')\n",
    "df = pd.DataFrame(sheet, columns = ['yr10', 'yr11', 'yr12', 'yr13', 'yr14', 'yr15', 'yr16', 'yr17', 'yr18', 'yr19', 'yr20', 'jan', 'feb', 'mar', 'apr', 'may', 'jun', 'jul', 'aug', 'sep', 'oct', 'nov', 'ln(utilization)', 'ln(wholesale beef)'])\n",
    "\n",
    "X = df[['ln(utilization)', 'yr10', 'yr11', 'yr12', 'yr13', 'yr14', 'yr15', 'yr16', 'yr17', 'yr18', 'yr19', 'yr20', 'jan', 'feb', 'mar', 'apr', 'may', 'jun', 'jul', 'aug', 'sep', 'oct', 'nov']]\n",
    "y = df['ln(wholesale beef)']\n",
    "\n",
    "X = sm.add_constant(X)\n",
    "result = sm.OLS(y, X).fit()\n",
    "print(result.summary())"
   ]
  }
 ],
 "metadata": {
  "kernelspec": {
   "display_name": "Python 3.9.12 ('base')",
   "language": "python",
   "name": "python3"
  },
  "language_info": {
   "codemirror_mode": {
    "name": "ipython",
    "version": 3
   },
   "file_extension": ".py",
   "mimetype": "text/x-python",
   "name": "python",
   "nbconvert_exporter": "python",
   "pygments_lexer": "ipython3",
   "version": "3.9.12"
  },
  "orig_nbformat": 4,
  "vscode": {
   "interpreter": {
    "hash": "6582d9aacd0dc7401298f5a8a5bb6397bff1cf9d99f4570a5bbb2483f843f71c"
   }
  }
 },
 "nbformat": 4,
 "nbformat_minor": 2
}
