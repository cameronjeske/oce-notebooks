{
 "cells": [
  {
   "cell_type": "code",
   "execution_count": 1,
   "metadata": {},
   "outputs": [
    {
     "name": "stdout",
     "output_type": "stream",
     "text": [
      "                            OLS Regression Results                            \n",
      "==============================================================================\n",
      "Dep. Variable:     ln(wholesale beef)   R-squared:                       0.787\n",
      "Model:                            OLS   Adj. R-squared:                  0.779\n",
      "Method:                 Least Squares   F-statistic:                     96.54\n",
      "Date:                Wed, 22 Jun 2022   Prob (F-statistic):          1.34e-184\n",
      "Time:                        14:02:57   Log-Likelihood:                 714.47\n",
      "No. Observations:                 625   AIC:                            -1381.\n",
      "Df Residuals:                     601   BIC:                            -1274.\n",
      "Df Model:                          23                                         \n",
      "Covariance Type:            nonrobust                                         \n",
      "===================================================================================\n",
      "                      coef    std err          t      P>|t|      [0.025      0.975]\n",
      "-----------------------------------------------------------------------------------\n",
      "const               5.5972      0.016    359.574      0.000       5.567       5.628\n",
      "ln(utilization)    -0.0063      0.003     -1.946      0.052      -0.013    5.64e-05\n",
      "yr10               -0.5736      0.016    -36.640      0.000      -0.604      -0.543\n",
      "yr11               -0.4292      0.016    -26.950      0.000      -0.461      -0.398\n",
      "yr12               -0.3812      0.016    -23.321      0.000      -0.413      -0.349\n",
      "yr13               -0.3531      0.016    -22.460      0.000      -0.384      -0.322\n",
      "yr14               -0.1588      0.016     -9.653      0.000      -0.191      -0.126\n",
      "yr15               -0.1704      0.017     -9.875      0.000      -0.204      -0.136\n",
      "yr16               -0.2942      0.015    -18.994      0.000      -0.325      -0.264\n",
      "yr17               -0.2771      0.015    -17.922      0.000      -0.307      -0.247\n",
      "yr18               -0.2567      0.015    -16.617      0.000      -0.287      -0.226\n",
      "yr19               -0.2169      0.015    -14.051      0.000      -0.247      -0.187\n",
      "yr20               -0.1700      0.016    -10.941      0.000      -0.200      -0.139\n",
      "jan                -0.0381      0.015     -2.489      0.013      -0.068      -0.008\n",
      "feb                -0.0419      0.016     -2.667      0.008      -0.073      -0.011\n",
      "mar                 0.0131      0.015      0.852      0.394      -0.017       0.043\n",
      "apr                 0.0331      0.015      2.142      0.033       0.003       0.063\n",
      "may                 0.1183      0.015      7.703      0.000       0.088       0.149\n",
      "jun                 0.0677      0.016      4.337      0.000       0.037       0.098\n",
      "jul                 0.0035      0.015      0.226      0.821      -0.027       0.034\n",
      "aug                 0.0193      0.015      1.256      0.210      -0.011       0.049\n",
      "sep                 0.0142      0.016      0.911      0.363      -0.016       0.045\n",
      "oct                -0.0101      0.015     -0.662      0.508      -0.040       0.020\n",
      "nov                 0.0278      0.016      1.780      0.076      -0.003       0.059\n",
      "==============================================================================\n",
      "Omnibus:                      279.782   Durbin-Watson:                   0.230\n",
      "Prob(Omnibus):                  0.000   Jarque-Bera (JB):             3456.269\n",
      "Skew:                           1.647   Prob(JB):                         0.00\n",
      "Kurtosis:                      14.040   Cond. No.                         31.4\n",
      "==============================================================================\n",
      "\n",
      "Notes:\n",
      "[1] Standard Errors assume that the covariance matrix of the errors is correctly specified.\n"
     ]
    }
   ],
   "source": [
    "import pandas as pd\n",
    "from sklearn.linear_model import LinearRegression\n",
    "import statsmodels.api as sm\n",
    "import numpy as np\n",
    "\n",
    "sheet = pd.read_csv(r'C:\\Users\\csjes\\Desktop\\all cattle prices.csv')\n",
    "df = pd.DataFrame(sheet, columns = ['yr10', 'yr11', 'yr12', 'yr13', 'yr14', 'yr15', 'yr16', 'yr17', 'yr18', 'yr19', 'yr20', 'jan', 'feb', 'mar', 'apr', 'may', 'jun', 'jul', 'aug', 'sep', 'oct', 'nov', 'ln(utilization)', 'ln(wholesale beef)'])\n",
    "\n",
    "X = df[['ln(utilization)', 'yr10', 'yr11', 'yr12', 'yr13', 'yr14', 'yr15', 'yr16', 'yr17', 'yr18', 'yr19', 'yr20', 'jan', 'feb', 'mar', 'apr', 'may', 'jun', 'jul', 'aug', 'sep', 'oct', 'nov']]\n",
    "y = df['ln(wholesale beef)']\n",
    "\n",
    "X = sm.add_constant(X)\n",
    "result = sm.OLS(y, X).fit()\n",
    "print(result.summary())"
   ]
  }
 ],
 "metadata": {
  "kernelspec": {
   "display_name": "Python 3.9.12 ('base')",
   "language": "python",
   "name": "python3"
  },
  "language_info": {
   "codemirror_mode": {
    "name": "ipython",
    "version": 3
   },
   "file_extension": ".py",
   "mimetype": "text/x-python",
   "name": "python",
   "nbconvert_exporter": "python",
   "pygments_lexer": "ipython3",
   "version": "3.9.12"
  },
  "orig_nbformat": 4,
  "vscode": {
   "interpreter": {
    "hash": "6582d9aacd0dc7401298f5a8a5bb6397bff1cf9d99f4570a5bbb2483f843f71c"
   }
  }
 },
 "nbformat": 4,
 "nbformat_minor": 2
}
