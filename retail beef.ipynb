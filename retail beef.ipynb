{
 "cells": [
  {
   "cell_type": "code",
   "execution_count": 1,
   "metadata": {},
   "outputs": [
    {
     "name": "stdout",
     "output_type": "stream",
     "text": [
      "                            OLS Regression Results                            \n",
      "==============================================================================\n",
      "Dep. Variable:        ln(retail beef)   R-squared:                       0.941\n",
      "Model:                            OLS   Adj. R-squared:                  0.939\n",
      "Method:                 Least Squares   F-statistic:                     419.6\n",
      "Date:                Wed, 22 Jun 2022   Prob (F-statistic):               0.00\n",
      "Time:                        14:03:30   Log-Likelihood:                 1230.2\n",
      "No. Observations:                 625   AIC:                            -2412.\n",
      "Df Residuals:                     601   BIC:                            -2306.\n",
      "Df Model:                          23                                         \n",
      "Covariance Type:            nonrobust                                         \n",
      "===================================================================================\n",
      "                      coef    std err          t      P>|t|      [0.025      0.975]\n",
      "-----------------------------------------------------------------------------------\n",
      "const               6.5764      0.007    964.134      0.000       6.563       6.590\n",
      "ln(utilization)    -0.0058      0.001     -4.092      0.000      -0.009      -0.003\n",
      "yr10               -0.5028      0.007    -73.296      0.000      -0.516      -0.489\n",
      "yr11               -0.4141      0.007    -59.330      0.000      -0.428      -0.400\n",
      "yr12               -0.3789      0.007    -52.891      0.000      -0.393      -0.365\n",
      "yr13               -0.3160      0.007    -45.873      0.000      -0.330      -0.302\n",
      "yr14               -0.2017      0.007    -27.991      0.000      -0.216      -0.188\n",
      "yr15               -0.1501      0.008    -19.851      0.000      -0.165      -0.135\n",
      "yr16               -0.1927      0.007    -28.398      0.000      -0.206      -0.179\n",
      "yr17               -0.2010      0.007    -29.662      0.000      -0.214      -0.188\n",
      "yr18               -0.1982      0.007    -29.281      0.000      -0.212      -0.185\n",
      "yr19               -0.1776      0.007    -26.257      0.000      -0.191      -0.164\n",
      "yr20               -0.1030      0.007    -15.129      0.000      -0.116      -0.090\n",
      "jan                -0.0454      0.007     -6.775      0.000      -0.059      -0.032\n",
      "feb                -0.0422      0.007     -6.136      0.000      -0.056      -0.029\n",
      "mar                -0.0222      0.007     -3.304      0.001      -0.035      -0.009\n",
      "apr                -0.0054      0.007     -0.805      0.421      -0.019       0.008\n",
      "may                 0.0153      0.007      2.272      0.023       0.002       0.029\n",
      "jun                 0.0259      0.007      3.791      0.000       0.012       0.039\n",
      "jul                 0.0165      0.007      2.458      0.014       0.003       0.030\n",
      "aug                 0.0122      0.007      1.813      0.070      -0.001       0.025\n",
      "sep                 0.0082      0.007      1.206      0.228      -0.005       0.022\n",
      "oct                 0.0066      0.007      0.978      0.329      -0.007       0.020\n",
      "nov                 0.0147      0.007      2.145      0.032       0.001       0.028\n",
      "==============================================================================\n",
      "Omnibus:                       72.873   Durbin-Watson:                   0.213\n",
      "Prob(Omnibus):                  0.000   Jarque-Bera (JB):              176.770\n",
      "Skew:                           0.624   Prob(JB):                     4.12e-39\n",
      "Kurtosis:                       5.287   Cond. No.                         31.4\n",
      "==============================================================================\n",
      "\n",
      "Notes:\n",
      "[1] Standard Errors assume that the covariance matrix of the errors is correctly specified.\n"
     ]
    }
   ],
   "source": [
    "import pandas as pd\n",
    "from sklearn.linear_model import LinearRegression\n",
    "import statsmodels.api as sm\n",
    "import numpy as np\n",
    "\n",
    "sheet = pd.read_csv(r'C:\\Users\\csjes\\Desktop\\all cattle prices.csv')\n",
    "df = pd.DataFrame(sheet, columns = ['yr10', 'yr11', 'yr12', 'yr13', 'yr14', 'yr15', 'yr16', 'yr17', 'yr18', 'yr19', 'yr20', 'jan', 'feb', 'mar', 'apr', 'may', 'jun', 'jul', 'aug', 'sep', 'oct', 'nov', 'ln(utilization)', 'ln(retail beef)'])\n",
    "\n",
    "X = df[['ln(utilization)', 'yr10', 'yr11', 'yr12', 'yr13', 'yr14', 'yr15', 'yr16', 'yr17', 'yr18', 'yr19', 'yr20', 'jan', 'feb', 'mar', 'apr', 'may', 'jun', 'jul', 'aug', 'sep', 'oct', 'nov']]\n",
    "y = df['ln(retail beef)']\n",
    "\n",
    "X = sm.add_constant(X)\n",
    "result = sm.OLS(y, X).fit()\n",
    "print(result.summary())"
   ]
  }
 ],
 "metadata": {
  "kernelspec": {
   "display_name": "Python 3.9.12 ('base')",
   "language": "python",
   "name": "python3"
  },
  "language_info": {
   "codemirror_mode": {
    "name": "ipython",
    "version": 3
   },
   "file_extension": ".py",
   "mimetype": "text/x-python",
   "name": "python",
   "nbconvert_exporter": "python",
   "pygments_lexer": "ipython3",
   "version": "3.9.12"
  },
  "orig_nbformat": 4,
  "vscode": {
   "interpreter": {
    "hash": "6582d9aacd0dc7401298f5a8a5bb6397bff1cf9d99f4570a5bbb2483f843f71c"
   }
  }
 },
 "nbformat": 4,
 "nbformat_minor": 2
}
