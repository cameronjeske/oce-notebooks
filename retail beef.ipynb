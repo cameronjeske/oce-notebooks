{
 "cells": [
  {
   "cell_type": "code",
   "execution_count": 1,
   "metadata": {},
   "outputs": [
    {
     "name": "stdout",
     "output_type": "stream",
     "text": [
      "                            OLS Regression Results                            \n",
      "==============================================================================\n",
      "Dep. Variable:        ln(retail beef)   R-squared:                       0.944\n",
      "Model:                            OLS   Adj. R-squared:                  0.942\n",
      "Method:                 Least Squares   F-statistic:                     438.9\n",
      "Date:                Thu, 23 Jun 2022   Prob (F-statistic):               0.00\n",
      "Time:                        09:48:58   Log-Likelihood:                 1245.1\n",
      "No. Observations:                 626   AIC:                            -2442.\n",
      "Df Residuals:                     602   BIC:                            -2336.\n",
      "Df Model:                          23                                         \n",
      "Covariance Type:            nonrobust                                         \n",
      "===================================================================================\n",
      "                      coef    std err          t      P>|t|      [0.025      0.975]\n",
      "-----------------------------------------------------------------------------------\n",
      "const               6.5588      0.008    859.067      0.000       6.544       6.574\n",
      "ln(utilization)    -0.1288      0.020     -6.355      0.000      -0.169      -0.089\n",
      "yr10               -0.4954      0.007    -74.839      0.000      -0.508      -0.482\n",
      "yr11               -0.4049      0.007    -61.338      0.000      -0.418      -0.392\n",
      "yr12               -0.3735      0.007    -56.527      0.000      -0.386      -0.361\n",
      "yr13               -0.3163      0.007    -47.701      0.000      -0.329      -0.303\n",
      "yr14               -0.2038      0.007    -29.824      0.000      -0.217      -0.190\n",
      "yr15               -0.1550      0.007    -21.749      0.000      -0.169      -0.141\n",
      "yr16               -0.1997      0.007    -29.738      0.000      -0.213      -0.187\n",
      "yr17               -0.2029      0.007    -30.721      0.000      -0.216      -0.190\n",
      "yr18               -0.1996      0.007    -30.265      0.000      -0.213      -0.187\n",
      "yr19               -0.1782      0.007    -27.018      0.000      -0.191      -0.165\n",
      "yr20               -0.1081      0.007    -16.310      0.000      -0.121      -0.095\n",
      "jan                -0.0446      0.007     -6.786      0.000      -0.057      -0.032\n",
      "feb                -0.0360      0.007     -5.348      0.000      -0.049      -0.023\n",
      "mar                -0.0162      0.007     -2.450      0.015      -0.029      -0.003\n",
      "apr                -0.0021      0.007     -0.314      0.753      -0.015       0.011\n",
      "may                 0.0221      0.007      3.287      0.001       0.009       0.035\n",
      "jun                 0.0346      0.007      4.982      0.000       0.021       0.048\n",
      "jul                 0.0231      0.007      3.452      0.001       0.010       0.036\n",
      "aug                 0.0207      0.007      3.025      0.003       0.007       0.034\n",
      "sep                 0.0111      0.007      1.641      0.101      -0.002       0.024\n",
      "oct                 0.0133      0.007      1.976      0.049    8.34e-05       0.027\n",
      "nov                 0.0142      0.007      2.138      0.033       0.001       0.027\n",
      "==============================================================================\n",
      "Omnibus:                       52.192   Durbin-Watson:                   0.239\n",
      "Prob(Omnibus):                  0.000   Jarque-Bera (JB):              125.958\n",
      "Skew:                           0.448   Prob(JB):                     4.45e-28\n",
      "Kurtosis:                       5.007   Cond. No.                         17.9\n",
      "==============================================================================\n",
      "\n",
      "Notes:\n",
      "[1] Standard Errors assume that the covariance matrix of the errors is correctly specified.\n"
     ]
    }
   ],
   "source": [
    "import pandas as pd\n",
    "from sklearn.linear_model import LinearRegression\n",
    "import statsmodels.api as sm\n",
    "import numpy as np\n",
    "\n",
    "sheet = pd.read_csv(r'C:\\Users\\csjes\\Desktop\\all cattle prices.csv')\n",
    "df = pd.DataFrame(sheet, columns = ['yr10', 'yr11', 'yr12', 'yr13', 'yr14', 'yr15', 'yr16', 'yr17', 'yr18', 'yr19', 'yr20', 'jan', 'feb', 'mar', 'apr', 'may', 'jun', 'jul', 'aug', 'sep', 'oct', 'nov', 'ln(utilization)', 'ln(retail beef)'])\n",
    "\n",
    "X = df[['ln(utilization)', 'yr10', 'yr11', 'yr12', 'yr13', 'yr14', 'yr15', 'yr16', 'yr17', 'yr18', 'yr19', 'yr20', 'jan', 'feb', 'mar', 'apr', 'may', 'jun', 'jul', 'aug', 'sep', 'oct', 'nov']]\n",
    "y = df['ln(retail beef)']\n",
    "\n",
    "X = sm.add_constant(X)\n",
    "result = sm.OLS(y, X).fit()\n",
    "print(result.summary())"
   ]
  }
 ],
 "metadata": {
  "kernelspec": {
   "display_name": "Python 3.9.12 ('base')",
   "language": "python",
   "name": "python3"
  },
  "language_info": {
   "codemirror_mode": {
    "name": "ipython",
    "version": 3
   },
   "file_extension": ".py",
   "mimetype": "text/x-python",
   "name": "python",
   "nbconvert_exporter": "python",
   "pygments_lexer": "ipython3",
   "version": "3.9.12"
  },
  "orig_nbformat": 4,
  "vscode": {
   "interpreter": {
    "hash": "6582d9aacd0dc7401298f5a8a5bb6397bff1cf9d99f4570a5bbb2483f843f71c"
   }
  }
 },
 "nbformat": 4,
 "nbformat_minor": 2
}
